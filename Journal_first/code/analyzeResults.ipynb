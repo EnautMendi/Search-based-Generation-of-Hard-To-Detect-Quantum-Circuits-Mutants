{
 "cells": [
  {
   "cell_type": "code",
   "execution_count": 3,
   "id": "initial_id",
   "metadata": {
    "collapsed": true,
    "ExecuteTime": {
     "end_time": "2024-06-20T14:29:00.899553900Z",
     "start_time": "2024-06-20T14:29:00.865389Z"
    }
   },
   "outputs": [
    {
     "data": {
      "text/plain": "   Run       GA_F  GA_g       RS_F    RS_i                      circuit\n0  4.5   1.811820  50.8   1.203133  39.745            ae_indep_qiskit_4\n1  4.5   2.423987  85.2   1.609220  70.420  qftentangled_indep_qiskit_4\n2  4.5  17.000000  99.0  17.000000  99.950           qft_indep_qiskit_4\n3  4.5   3.208287  99.0   2.002763  99.950      qpeexact_indep_qiskit_4\n4  4.5   2.423202  74.6   1.000000  17.855    qpeinexact_indep_qiskit_4\n5  4.5   3.911225  81.2   1.301537  59.075           vqe_indep_qiskit_4\n6  4.5   3.907731  87.7   1.300954  55.735        wstate_indep_qiskit_4",
      "text/html": "<div>\n<style scoped>\n    .dataframe tbody tr th:only-of-type {\n        vertical-align: middle;\n    }\n\n    .dataframe tbody tr th {\n        vertical-align: top;\n    }\n\n    .dataframe thead th {\n        text-align: right;\n    }\n</style>\n<table border=\"1\" class=\"dataframe\">\n  <thead>\n    <tr style=\"text-align: right;\">\n      <th></th>\n      <th>Run</th>\n      <th>GA_F</th>\n      <th>GA_g</th>\n      <th>RS_F</th>\n      <th>RS_i</th>\n      <th>circuit</th>\n    </tr>\n  </thead>\n  <tbody>\n    <tr>\n      <th>0</th>\n      <td>4.5</td>\n      <td>1.811820</td>\n      <td>50.8</td>\n      <td>1.203133</td>\n      <td>39.745</td>\n      <td>ae_indep_qiskit_4</td>\n    </tr>\n    <tr>\n      <th>1</th>\n      <td>4.5</td>\n      <td>2.423987</td>\n      <td>85.2</td>\n      <td>1.609220</td>\n      <td>70.420</td>\n      <td>qftentangled_indep_qiskit_4</td>\n    </tr>\n    <tr>\n      <th>2</th>\n      <td>4.5</td>\n      <td>17.000000</td>\n      <td>99.0</td>\n      <td>17.000000</td>\n      <td>99.950</td>\n      <td>qft_indep_qiskit_4</td>\n    </tr>\n    <tr>\n      <th>3</th>\n      <td>4.5</td>\n      <td>3.208287</td>\n      <td>99.0</td>\n      <td>2.002763</td>\n      <td>99.950</td>\n      <td>qpeexact_indep_qiskit_4</td>\n    </tr>\n    <tr>\n      <th>4</th>\n      <td>4.5</td>\n      <td>2.423202</td>\n      <td>74.6</td>\n      <td>1.000000</td>\n      <td>17.855</td>\n      <td>qpeinexact_indep_qiskit_4</td>\n    </tr>\n    <tr>\n      <th>5</th>\n      <td>4.5</td>\n      <td>3.911225</td>\n      <td>81.2</td>\n      <td>1.301537</td>\n      <td>59.075</td>\n      <td>vqe_indep_qiskit_4</td>\n    </tr>\n    <tr>\n      <th>6</th>\n      <td>4.5</td>\n      <td>3.907731</td>\n      <td>87.7</td>\n      <td>1.300954</td>\n      <td>55.735</td>\n      <td>wstate_indep_qiskit_4</td>\n    </tr>\n  </tbody>\n</table>\n</div>"
     },
     "execution_count": 3,
     "metadata": {},
     "output_type": "execute_result"
    }
   ],
   "source": [
    "import os\n",
    "import pandas as pd\n",
    "\n",
    "def process_folder(folder_path):\n",
    "    # List to store DataFrames\n",
    "    results_list = []\n",
    "\n",
    "    # Walk through the directory tree\n",
    "    for root, dirs, files in os.walk(folder_path):\n",
    "        for subdir in dirs:\n",
    "            subdir_path = os.path.join(root, subdir)\n",
    "            \n",
    "            for filename in os.listdir(subdir_path):\n",
    "                if filename == \"all_results.txt\":\n",
    "                    file_path = os.path.join(subdir_path, filename)\n",
    "                    \n",
    "                    # Read the file into a DataFrame\n",
    "                    df = pd.read_csv(file_path, sep=',')  # Adjust separator if needed\n",
    "                    \n",
    "                    # Divide the specified column by 20, to get number of generations\n",
    "                    df['RS_i'] = df['RS_i'] / 20\n",
    "                    \n",
    "                    # Calculate the average of all columns\n",
    "                    avg_values = df.mean(axis=0)\n",
    "                    \n",
    "                    # Convert Series to DataFrame and add the subfolder name\n",
    "                    avg_values_df = avg_values.to_frame().T\n",
    "                    avg_values_df['circuit'] = subdir\n",
    "                    \n",
    "                    # Append the DataFrame to the list\n",
    "                    results_list.append(avg_values_df)\n",
    "    \n",
    "    # Concatenate all the DataFrames in the list\n",
    "    results_df = pd.concat(results_list, ignore_index=True)\n",
    "    \n",
    "    return results_df\n",
    "\n",
    "# Define the folder path\n",
    "folder_path = \"../results\"\n",
    "\n",
    "# Process the folder and get the results\n",
    "final_df = process_folder(folder_path)\n",
    "final_df\n",
    "# Save the final DataFrame to a CSV file\n",
    "#final_df.to_csv(\"averaged_results.csv\", index=False)\n"
   ]
  },
  {
   "cell_type": "code",
   "execution_count": null,
   "outputs": [],
   "source": [],
   "metadata": {
    "collapsed": false
   },
   "id": "1946bd1b360fec85"
  }
 ],
 "metadata": {
  "kernelspec": {
   "display_name": "Python 3",
   "language": "python",
   "name": "python3"
  },
  "language_info": {
   "codemirror_mode": {
    "name": "ipython",
    "version": 2
   },
   "file_extension": ".py",
   "mimetype": "text/x-python",
   "name": "python",
   "nbconvert_exporter": "python",
   "pygments_lexer": "ipython2",
   "version": "2.7.6"
  }
 },
 "nbformat": 4,
 "nbformat_minor": 5
}
